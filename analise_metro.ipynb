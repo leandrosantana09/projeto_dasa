{
 "cells": [
  {
   "cell_type": "code",
   "execution_count": 1,
   "metadata": {},
   "outputs": [],
   "source": [
    "import pandas as pd\n",
    "from sympy import *"
   ]
  },
  {
   "cell_type": "markdown",
   "metadata": {},
   "source": [
    "# DADOS DE ENTRADA\n",
    "\n",
    "Fonte dos dados: https://transparencia.metrosp.com.br/dataset/demanda/resource/4ea06bbe-f2d4-43ae-9d4d-c3b7af7a5151"
   ]
  },
  {
   "cell_type": "code",
   "execution_count": 2,
   "metadata": {},
   "outputs": [
    {
     "name": "stderr",
     "output_type": "stream",
     "text": [
      "C:\\Users\\leand\\AppData\\Local\\Temp\\ipykernel_16108\\3233956583.py:1: ParserWarning: Falling back to the 'python' engine because the 'c' engine does not support skipfooter; you can avoid this warning by specifying engine='python'.\n",
      "  base = pd.read_csv(\"C:\\\\Users\\\\leand\\\\OneDrive\\\\Área de Trabalho\\\\projeto-dasa\\\\Dezembro\\\\Entrada de Passageiros por Estação - Média Dias Úteis - Dezembro 2019.csv\",\n"
     ]
    }
   ],
   "source": [
    "base = pd.read_csv(\"C:\\\\Users\\\\leand\\\\OneDrive\\\\Área de Trabalho\\\\projeto-dasa\\\\Dezembro\\\\Entrada de Passageiros por Estação - Média Dias Úteis - Dezembro 2019.csv\",\n",
    "                   encoding=\"latin\",\n",
    "                   sep = ';',\n",
    "                   skiprows = 5,\n",
    "                   skipfooter = 10\n",
    "                   )"
   ]
  },
  {
   "cell_type": "markdown",
   "metadata": {},
   "source": [
    "# 4 ESTAÇÕES DE METRÔ"
   ]
  },
  {
   "cell_type": "code",
   "execution_count": 3,
   "metadata": {},
   "outputs": [
    {
     "data": {
      "text/html": [
       "<div>\n",
       "<style scoped>\n",
       "    .dataframe tbody tr th:only-of-type {\n",
       "        vertical-align: middle;\n",
       "    }\n",
       "\n",
       "    .dataframe tbody tr th {\n",
       "        vertical-align: top;\n",
       "    }\n",
       "\n",
       "    .dataframe thead th {\n",
       "        text-align: right;\n",
       "    }\n",
       "</style>\n",
       "<table border=\"1\" class=\"dataframe\">\n",
       "  <thead>\n",
       "    <tr style=\"text-align: right;\">\n",
       "      <th></th>\n",
       "      <th>Estação</th>\n",
       "      <th>Entradas</th>\n",
       "      <th>Estação .1</th>\n",
       "      <th>Entradas</th>\n",
       "      <th>Estação .2</th>\n",
       "      <th>Entradas.1</th>\n",
       "      <th>Estação .3</th>\n",
       "      <th>Entradas.2</th>\n",
       "    </tr>\n",
       "  </thead>\n",
       "  <tbody>\n",
       "    <tr>\n",
       "      <th>0</th>\n",
       "      <td>Jabaquara</td>\n",
       "      <td>87</td>\n",
       "      <td>Vila Prudente5</td>\n",
       "      <td>66</td>\n",
       "      <td>Corinthians-Itaquera</td>\n",
       "      <td>89</td>\n",
       "      <td>Vila Prudente6</td>\n",
       "      <td>47</td>\n",
       "    </tr>\n",
       "    <tr>\n",
       "      <th>1</th>\n",
       "      <td>Conceição</td>\n",
       "      <td>37</td>\n",
       "      <td>Tamanduateí</td>\n",
       "      <td>74</td>\n",
       "      <td>Artur Alvim</td>\n",
       "      <td>63</td>\n",
       "      <td>Oratório</td>\n",
       "      <td>6</td>\n",
       "    </tr>\n",
       "    <tr>\n",
       "      <th>2</th>\n",
       "      <td>São Judas</td>\n",
       "      <td>19</td>\n",
       "      <td>Sacomã</td>\n",
       "      <td>43</td>\n",
       "      <td>Patriarca</td>\n",
       "      <td>24</td>\n",
       "      <td>São Lucas</td>\n",
       "      <td>5</td>\n",
       "    </tr>\n",
       "    <tr>\n",
       "      <th>3</th>\n",
       "      <td>Saúde</td>\n",
       "      <td>34</td>\n",
       "      <td>Alto do Ipiranga</td>\n",
       "      <td>19</td>\n",
       "      <td>Guilhermina-Esperança</td>\n",
       "      <td>24</td>\n",
       "      <td>Camilo Haddad</td>\n",
       "      <td>3</td>\n",
       "    </tr>\n",
       "    <tr>\n",
       "      <th>4</th>\n",
       "      <td>Praça da Árvore</td>\n",
       "      <td>21</td>\n",
       "      <td>Santos-Imigrantes</td>\n",
       "      <td>15</td>\n",
       "      <td>Vila Matilde</td>\n",
       "      <td>28</td>\n",
       "      <td>Vila Tolstói</td>\n",
       "      <td>5</td>\n",
       "    </tr>\n",
       "    <tr>\n",
       "      <th>5</th>\n",
       "      <td>Santa Cruz</td>\n",
       "      <td>112</td>\n",
       "      <td>Chácara Klabin</td>\n",
       "      <td>75</td>\n",
       "      <td>Penha</td>\n",
       "      <td>33</td>\n",
       "      <td>Vila União</td>\n",
       "      <td>6</td>\n",
       "    </tr>\n",
       "    <tr>\n",
       "      <th>6</th>\n",
       "      <td>Vila Mariana</td>\n",
       "      <td>21</td>\n",
       "      <td>Ana Rosa²</td>\n",
       "      <td>74</td>\n",
       "      <td>Carrão</td>\n",
       "      <td>48</td>\n",
       "      <td>Jardim Planalto</td>\n",
       "      <td>13</td>\n",
       "    </tr>\n",
       "    <tr>\n",
       "      <th>7</th>\n",
       "      <td>Ana Rosa¹</td>\n",
       "      <td>85</td>\n",
       "      <td>Paraíso²</td>\n",
       "      <td>77</td>\n",
       "      <td>Tatuapé</td>\n",
       "      <td>90</td>\n",
       "      <td>Sapopemba</td>\n",
       "      <td>2</td>\n",
       "    </tr>\n",
       "    <tr>\n",
       "      <th>8</th>\n",
       "      <td>Paraíso¹</td>\n",
       "      <td>106</td>\n",
       "      <td>Brigadeiro</td>\n",
       "      <td>61</td>\n",
       "      <td>Belém</td>\n",
       "      <td>42</td>\n",
       "      <td>Fazenda da Juta</td>\n",
       "      <td>1</td>\n",
       "    </tr>\n",
       "    <tr>\n",
       "      <th>9</th>\n",
       "      <td>Vergueiro</td>\n",
       "      <td>26</td>\n",
       "      <td>Trianon-Masp</td>\n",
       "      <td>54</td>\n",
       "      <td>Bresser-Moóca</td>\n",
       "      <td>37</td>\n",
       "      <td>São Mateus</td>\n",
       "      <td>3</td>\n",
       "    </tr>\n",
       "    <tr>\n",
       "      <th>10</th>\n",
       "      <td>São Joaquim</td>\n",
       "      <td>31</td>\n",
       "      <td>Consolação</td>\n",
       "      <td>124</td>\n",
       "      <td>Brás</td>\n",
       "      <td>110</td>\n",
       "      <td>-</td>\n",
       "      <td>-</td>\n",
       "    </tr>\n",
       "    <tr>\n",
       "      <th>11</th>\n",
       "      <td>Liberdade</td>\n",
       "      <td>26</td>\n",
       "      <td>Clínicas</td>\n",
       "      <td>24</td>\n",
       "      <td>Pedro II</td>\n",
       "      <td>22</td>\n",
       "      <td>-</td>\n",
       "      <td>-</td>\n",
       "    </tr>\n",
       "    <tr>\n",
       "      <th>12</th>\n",
       "      <td>Sé³</td>\n",
       "      <td>222</td>\n",
       "      <td>Santuário N.S. de Fátima-Sumaré</td>\n",
       "      <td>13</td>\n",
       "      <td>Sé4</td>\n",
       "      <td>253</td>\n",
       "      <td>-</td>\n",
       "      <td>-</td>\n",
       "    </tr>\n",
       "    <tr>\n",
       "      <th>13</th>\n",
       "      <td>São Bento</td>\n",
       "      <td>79</td>\n",
       "      <td>Vila Madalena</td>\n",
       "      <td>26</td>\n",
       "      <td>Anhangabaú</td>\n",
       "      <td>64</td>\n",
       "      <td>-</td>\n",
       "      <td>-</td>\n",
       "    </tr>\n",
       "    <tr>\n",
       "      <th>14</th>\n",
       "      <td>Luz</td>\n",
       "      <td>146</td>\n",
       "      <td>-</td>\n",
       "      <td>-</td>\n",
       "      <td>República</td>\n",
       "      <td>155</td>\n",
       "      <td>-</td>\n",
       "      <td>-</td>\n",
       "    </tr>\n",
       "    <tr>\n",
       "      <th>15</th>\n",
       "      <td>Tiradentes</td>\n",
       "      <td>15</td>\n",
       "      <td>-</td>\n",
       "      <td>-</td>\n",
       "      <td>Santa Cecília</td>\n",
       "      <td>25</td>\n",
       "      <td>-</td>\n",
       "      <td>-</td>\n",
       "    </tr>\n",
       "    <tr>\n",
       "      <th>16</th>\n",
       "      <td>Armênia</td>\n",
       "      <td>26</td>\n",
       "      <td>-</td>\n",
       "      <td>-</td>\n",
       "      <td>Marechal Deodoro</td>\n",
       "      <td>33</td>\n",
       "      <td>-</td>\n",
       "      <td>-</td>\n",
       "    </tr>\n",
       "    <tr>\n",
       "      <th>17</th>\n",
       "      <td>Portuguesa-Tietê</td>\n",
       "      <td>62</td>\n",
       "      <td>-</td>\n",
       "      <td>-</td>\n",
       "      <td>Palmeiras-Barra Funda</td>\n",
       "      <td>192</td>\n",
       "      <td>-</td>\n",
       "      <td>-</td>\n",
       "    </tr>\n",
       "    <tr>\n",
       "      <th>18</th>\n",
       "      <td>Carandiru</td>\n",
       "      <td>14</td>\n",
       "      <td>-</td>\n",
       "      <td>-</td>\n",
       "      <td>-</td>\n",
       "      <td>-</td>\n",
       "      <td>-</td>\n",
       "      <td>-</td>\n",
       "    </tr>\n",
       "    <tr>\n",
       "      <th>19</th>\n",
       "      <td>Santana</td>\n",
       "      <td>61</td>\n",
       "      <td>-</td>\n",
       "      <td>-</td>\n",
       "      <td>-</td>\n",
       "      <td>-</td>\n",
       "      <td>-</td>\n",
       "      <td>-</td>\n",
       "    </tr>\n",
       "    <tr>\n",
       "      <th>20</th>\n",
       "      <td>Jardim São Paulo-Ayrton Senna</td>\n",
       "      <td>14</td>\n",
       "      <td>-</td>\n",
       "      <td>-</td>\n",
       "      <td>-</td>\n",
       "      <td>-</td>\n",
       "      <td>-</td>\n",
       "      <td>-</td>\n",
       "    </tr>\n",
       "    <tr>\n",
       "      <th>21</th>\n",
       "      <td>Parada Inglesa</td>\n",
       "      <td>15</td>\n",
       "      <td>-</td>\n",
       "      <td>-</td>\n",
       "      <td>-</td>\n",
       "      <td>-</td>\n",
       "      <td>-</td>\n",
       "      <td>-</td>\n",
       "    </tr>\n",
       "    <tr>\n",
       "      <th>22</th>\n",
       "      <td>Tucuruvi</td>\n",
       "      <td>69</td>\n",
       "      <td>-</td>\n",
       "      <td>-</td>\n",
       "      <td>-</td>\n",
       "      <td>-</td>\n",
       "      <td>-</td>\n",
       "      <td>-</td>\n",
       "    </tr>\n",
       "  </tbody>\n",
       "</table>\n",
       "</div>"
      ],
      "text/plain": [
       "                         Estação   Entradas   \\\n",
       "0                       Jabaquara         87   \n",
       "1                      Conceição          37   \n",
       "2                      São Judas          19   \n",
       "3                          Saúde          34   \n",
       "4                Praça da Árvore          21   \n",
       "5                      Santa Cruz        112   \n",
       "6                   Vila Mariana          21   \n",
       "7                       Ana Rosa¹         85   \n",
       "8                        Paraíso¹        106   \n",
       "9                      Vergueiro          26   \n",
       "10                   São Joaquim          31   \n",
       "11                     Liberdade          26   \n",
       "12                            Sé³        222   \n",
       "13                      São Bento         79   \n",
       "14                            Luz        146   \n",
       "15                    Tiradentes          15   \n",
       "16                       Armênia          26   \n",
       "17              Portuguesa-Tietê          62   \n",
       "18                     Carandiru          14   \n",
       "19                       Santana          61   \n",
       "20  Jardim São Paulo-Ayrton Senna         14   \n",
       "21                Parada Inglesa          15   \n",
       "22                      Tucuruvi          69   \n",
       "\n",
       "                          Estação .1 Entradas              Estação .2  \\\n",
       "0                     Vila Prudente5       66    Corinthians-Itaquera   \n",
       "1                        Tamanduateí       74             Artur Alvim   \n",
       "2                             Sacomã       43              Patriarca    \n",
       "3                  Alto do Ipiranga        19  Guilhermina-Esperança    \n",
       "4                 Santos-Imigrantes        15           Vila Matilde    \n",
       "5                    Chácara Klabin        75                  Penha    \n",
       "6                          Ana Rosa²       74                 Carrão    \n",
       "7                           Paraíso²       77                 Tatuapé   \n",
       "8                        Brigadeiro        61                  Belém    \n",
       "9                      Trianon-Masp        54          Bresser-Moóca    \n",
       "10                        Consolação      124                    Brás   \n",
       "11                         Clínicas        24               Pedro II    \n",
       "12  Santuário N.S. de Fátima-Sumaré        13                     Sé4   \n",
       "13                     Vila Madalena       26              Anhangabaú   \n",
       "14                                -         -               República   \n",
       "15                                -         -          Santa Cecília    \n",
       "16                                -         -       Marechal Deodoro    \n",
       "17                                -         -   Palmeiras-Barra Funda   \n",
       "18                                -         -                      -    \n",
       "19                                -         -                      -    \n",
       "20                                -         -                      -    \n",
       "21                                -         -                      -    \n",
       "22                                -         -                      -    \n",
       "\n",
       "   Entradas.1       Estação .3 Entradas.2  \n",
       "0          89   Vila Prudente6         47  \n",
       "1          63         Oratório          6  \n",
       "2          24        São Lucas          5  \n",
       "3          24    Camilo Haddad          3  \n",
       "4          28     Vila Tolstói          5  \n",
       "5          33       Vila União          6  \n",
       "6          48  Jardim Planalto         13  \n",
       "7          90        Sapopemba          2  \n",
       "8          42  Fazenda da Juta          1  \n",
       "9          37       São Mateus          3  \n",
       "10        110               -           -  \n",
       "11         22               -           -  \n",
       "12        253               -           -  \n",
       "13         64               -           -  \n",
       "14        155               -           -  \n",
       "15         25               -           -  \n",
       "16         33               -           -  \n",
       "17        192               -           -  \n",
       "18         -                -           -  \n",
       "19         -                -           -  \n",
       "20         -                -           -  \n",
       "21         -                -           -  \n",
       "22         -                -           -  "
      ]
     },
     "execution_count": 3,
     "metadata": {},
     "output_type": "execute_result"
    }
   ],
   "source": [
    "base"
   ]
  },
  {
   "cell_type": "code",
   "execution_count": 4,
   "metadata": {},
   "outputs": [],
   "source": [
    "base['ESTACAO'] = base['Estação '] + base['Estação .1'] + base['Estação .2'] + base['Estação .3']"
   ]
  },
  {
   "cell_type": "code",
   "execution_count": 5,
   "metadata": {},
   "outputs": [],
   "source": [
    "data = pd.DataFrame()"
   ]
  },
  {
   "cell_type": "code",
   "execution_count": 6,
   "metadata": {},
   "outputs": [
    {
     "data": {
      "text/plain": [
       "0            Jabaquara\n",
       "1           Conceição \n",
       "2           São Judas \n",
       "3               Saúde \n",
       "4     Praça da Árvore \n",
       "            ...       \n",
       "87                  - \n",
       "88                  - \n",
       "89                  - \n",
       "90                  - \n",
       "91                  - \n",
       "Name: ESTACAO, Length: 92, dtype: object"
      ]
     },
     "execution_count": 6,
     "metadata": {},
     "output_type": "execute_result"
    }
   ],
   "source": [
    "data['ESTACAO'] = pd.concat([base['Estação '], base['Estação .1'], base['Estação .2'], base['Estação .3']], ignore_index=True)\n",
    "data['ESTACAO'] "
   ]
  },
  {
   "cell_type": "code",
   "execution_count": 7,
   "metadata": {},
   "outputs": [
    {
     "data": {
      "text/plain": [
       "0     87\n",
       "1     37\n",
       "2     19\n",
       "3     34\n",
       "4     21\n",
       "      ..\n",
       "87     -\n",
       "88     -\n",
       "89     -\n",
       "90     -\n",
       "91     -\n",
       "Name: ESTACAO_PROVISORIA, Length: 92, dtype: object"
      ]
     },
     "execution_count": 7,
     "metadata": {},
     "output_type": "execute_result"
    }
   ],
   "source": [
    "data['ESTACAO_PROVISORIA'] = pd.concat([base['Entradas '], base['Entradas'], base['Entradas.1'], base['Entradas.2']], ignore_index=True)\n",
    "data['ESTACAO_PROVISORIA'] "
   ]
  },
  {
   "cell_type": "code",
   "execution_count": 8,
   "metadata": {},
   "outputs": [
    {
     "name": "stdout",
     "output_type": "stream",
     "text": [
      "<class 'pandas.core.frame.DataFrame'>\n",
      "RangeIndex: 92 entries, 0 to 91\n",
      "Data columns (total 2 columns):\n",
      " #   Column              Non-Null Count  Dtype \n",
      "---  ------              --------------  ----- \n",
      " 0   ESTACAO             92 non-null     object\n",
      " 1   ESTACAO_PROVISORIA  92 non-null     object\n",
      "dtypes: object(2)\n",
      "memory usage: 1.6+ KB\n"
     ]
    }
   ],
   "source": [
    "data.info()"
   ]
  },
  {
   "cell_type": "code",
   "execution_count": 9,
   "metadata": {},
   "outputs": [],
   "source": [
    "data['ESTACAO_PROVISORIA'].replace({'-': 0, '- ': 0}, inplace=True)"
   ]
  },
  {
   "cell_type": "code",
   "execution_count": 10,
   "metadata": {},
   "outputs": [],
   "source": [
    "data['ENTRADA'] = pd.to_numeric(data['ESTACAO_PROVISORIA'])"
   ]
  },
  {
   "cell_type": "code",
   "execution_count": 11,
   "metadata": {},
   "outputs": [
    {
     "data": {
      "text/plain": [
       "3496"
      ]
     },
     "execution_count": 11,
     "metadata": {},
     "output_type": "execute_result"
    }
   ],
   "source": [
    "data['ENTRADA'].sum()"
   ]
  },
  {
   "cell_type": "code",
   "execution_count": 12,
   "metadata": {},
   "outputs": [
    {
     "data": {
      "text/html": [
       "<div>\n",
       "<style scoped>\n",
       "    .dataframe tbody tr th:only-of-type {\n",
       "        vertical-align: middle;\n",
       "    }\n",
       "\n",
       "    .dataframe tbody tr th {\n",
       "        vertical-align: top;\n",
       "    }\n",
       "\n",
       "    .dataframe thead th {\n",
       "        text-align: right;\n",
       "    }\n",
       "</style>\n",
       "<table border=\"1\" class=\"dataframe\">\n",
       "  <thead>\n",
       "    <tr style=\"text-align: right;\">\n",
       "      <th></th>\n",
       "      <th>ESTACAO</th>\n",
       "      <th>ESTACAO_PROVISORIA</th>\n",
       "      <th>ENTRADA</th>\n",
       "    </tr>\n",
       "  </thead>\n",
       "  <tbody>\n",
       "    <tr>\n",
       "      <th>0</th>\n",
       "      <td>Jabaquara</td>\n",
       "      <td>87</td>\n",
       "      <td>87</td>\n",
       "    </tr>\n",
       "    <tr>\n",
       "      <th>1</th>\n",
       "      <td>Conceição</td>\n",
       "      <td>37</td>\n",
       "      <td>37</td>\n",
       "    </tr>\n",
       "    <tr>\n",
       "      <th>2</th>\n",
       "      <td>São Judas</td>\n",
       "      <td>19</td>\n",
       "      <td>19</td>\n",
       "    </tr>\n",
       "    <tr>\n",
       "      <th>3</th>\n",
       "      <td>Saúde</td>\n",
       "      <td>34</td>\n",
       "      <td>34</td>\n",
       "    </tr>\n",
       "    <tr>\n",
       "      <th>4</th>\n",
       "      <td>Praça da Árvore</td>\n",
       "      <td>21</td>\n",
       "      <td>21</td>\n",
       "    </tr>\n",
       "    <tr>\n",
       "      <th>...</th>\n",
       "      <td>...</td>\n",
       "      <td>...</td>\n",
       "      <td>...</td>\n",
       "    </tr>\n",
       "    <tr>\n",
       "      <th>87</th>\n",
       "      <td>-</td>\n",
       "      <td>0</td>\n",
       "      <td>0</td>\n",
       "    </tr>\n",
       "    <tr>\n",
       "      <th>88</th>\n",
       "      <td>-</td>\n",
       "      <td>0</td>\n",
       "      <td>0</td>\n",
       "    </tr>\n",
       "    <tr>\n",
       "      <th>89</th>\n",
       "      <td>-</td>\n",
       "      <td>0</td>\n",
       "      <td>0</td>\n",
       "    </tr>\n",
       "    <tr>\n",
       "      <th>90</th>\n",
       "      <td>-</td>\n",
       "      <td>0</td>\n",
       "      <td>0</td>\n",
       "    </tr>\n",
       "    <tr>\n",
       "      <th>91</th>\n",
       "      <td>-</td>\n",
       "      <td>0</td>\n",
       "      <td>0</td>\n",
       "    </tr>\n",
       "  </tbody>\n",
       "</table>\n",
       "<p>92 rows × 3 columns</p>\n",
       "</div>"
      ],
      "text/plain": [
       "             ESTACAO ESTACAO_PROVISORIA  ENTRADA\n",
       "0          Jabaquara                 87       87\n",
       "1         Conceição                  37       37\n",
       "2         São Judas                  19       19\n",
       "3             Saúde                  34       34\n",
       "4   Praça da Árvore                  21       21\n",
       "..               ...                ...      ...\n",
       "87                -                   0        0\n",
       "88                -                   0        0\n",
       "89                -                   0        0\n",
       "90                -                   0        0\n",
       "91                -                   0        0\n",
       "\n",
       "[92 rows x 3 columns]"
      ]
     },
     "execution_count": 12,
     "metadata": {},
     "output_type": "execute_result"
    }
   ],
   "source": [
    "data.dropna()"
   ]
  },
  {
   "cell_type": "markdown",
   "metadata": {},
   "source": [
    "# PREÇO DA PASSAGEM: R$ 4,30\n",
    "\n",
    "\n",
    "Fonte dos dados: https://www.sptrans.com.br/tarifas/"
   ]
  },
  {
   "cell_type": "markdown",
   "metadata": {},
   "source": [
    "# HORARIO FUNCIONAMENTO: 19 HORAS\n",
    "\n",
    "Fonte dos dados: https://www.metro.sp.gov.br/sua-viagem/horarios/horarios-estacoes.aspx"
   ]
  },
  {
   "cell_type": "code",
   "execution_count": 13,
   "metadata": {},
   "outputs": [],
   "source": [
    "preco_passagem = 4.3\n",
    "porcentagem_pico = 0.4\n",
    "horario_funcionamento = 19"
   ]
  },
  {
   "cell_type": "code",
   "execution_count": 14,
   "metadata": {},
   "outputs": [
    {
     "data": {
      "text/plain": [
       "3496"
      ]
     },
     "execution_count": 14,
     "metadata": {},
     "output_type": "execute_result"
    }
   ],
   "source": [
    "entrada = data['ENTRADA'].sum()\n",
    "entrada"
   ]
  },
  {
   "cell_type": "code",
   "execution_count": 15,
   "metadata": {},
   "outputs": [
    {
     "data": {
      "text/plain": [
       "15032.8"
      ]
     },
     "execution_count": 15,
     "metadata": {},
     "output_type": "execute_result"
    }
   ],
   "source": [
    "total_entrada = entrada*preco_passagem # numero em milhares\n",
    "total_entrada \n"
   ]
  },
  {
   "cell_type": "markdown",
   "metadata": {},
   "source": [
    "# FATURAMENTO BRUTO P/ HORA DO METRÔ"
   ]
  },
  {
   "cell_type": "code",
   "execution_count": 16,
   "metadata": {},
   "outputs": [
    {
     "data": {
      "text/plain": [
       "791.1999999999999"
      ]
     },
     "execution_count": 16,
     "metadata": {},
     "output_type": "execute_result"
    }
   ],
   "source": [
    "total_entrada/horario_funcionamento "
   ]
  }
 ],
 "metadata": {
  "kernelspec": {
   "display_name": "Python 3.8.0 64-bit",
   "language": "python",
   "name": "python3"
  },
  "language_info": {
   "codemirror_mode": {
    "name": "ipython",
    "version": 3
   },
   "file_extension": ".py",
   "mimetype": "text/x-python",
   "name": "python",
   "nbconvert_exporter": "python",
   "pygments_lexer": "ipython3",
   "version": "3.8.0"
  },
  "orig_nbformat": 4,
  "vscode": {
   "interpreter": {
    "hash": "09be6b3f34bcb3c06de37c135bf5b8c78f55ccd4d895c1a670cc2db047f81443"
   }
  }
 },
 "nbformat": 4,
 "nbformat_minor": 2
}
